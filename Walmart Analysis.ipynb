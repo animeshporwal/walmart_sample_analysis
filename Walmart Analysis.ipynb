{
 "cells": [
  {
   "cell_type": "code",
   "execution_count": 2,
   "id": "92cf7c35",
   "metadata": {},
   "outputs": [],
   "source": [
    "import pandas as pd"
   ]
  },
  {
   "cell_type": "code",
   "execution_count": 3,
   "id": "8ab7a2ed",
   "metadata": {},
   "outputs": [
    {
     "data": {
      "text/html": [
       "<div>\n",
       "<style scoped>\n",
       "    .dataframe tbody tr th:only-of-type {\n",
       "        vertical-align: middle;\n",
       "    }\n",
       "\n",
       "    .dataframe tbody tr th {\n",
       "        vertical-align: top;\n",
       "    }\n",
       "\n",
       "    .dataframe thead th {\n",
       "        text-align: right;\n",
       "    }\n",
       "</style>\n",
       "<table border=\"1\" class=\"dataframe\">\n",
       "  <thead>\n",
       "    <tr style=\"text-align: right;\">\n",
       "      <th></th>\n",
       "      <th>User_ID</th>\n",
       "      <th>Product_ID</th>\n",
       "      <th>Gender</th>\n",
       "      <th>Age</th>\n",
       "      <th>Occupation</th>\n",
       "      <th>City_Category</th>\n",
       "      <th>Stay_In_Current_City_Years</th>\n",
       "      <th>Marital_Status</th>\n",
       "      <th>Product_Category</th>\n",
       "      <th>Purchase</th>\n",
       "    </tr>\n",
       "  </thead>\n",
       "  <tbody>\n",
       "    <tr>\n",
       "      <th>0</th>\n",
       "      <td>1000001</td>\n",
       "      <td>P00069042</td>\n",
       "      <td>F</td>\n",
       "      <td>0-17</td>\n",
       "      <td>10</td>\n",
       "      <td>A</td>\n",
       "      <td>2</td>\n",
       "      <td>0</td>\n",
       "      <td>3</td>\n",
       "      <td>8370</td>\n",
       "    </tr>\n",
       "    <tr>\n",
       "      <th>1</th>\n",
       "      <td>1000001</td>\n",
       "      <td>P00248942</td>\n",
       "      <td>F</td>\n",
       "      <td>0-17</td>\n",
       "      <td>10</td>\n",
       "      <td>A</td>\n",
       "      <td>2</td>\n",
       "      <td>0</td>\n",
       "      <td>1</td>\n",
       "      <td>15200</td>\n",
       "    </tr>\n",
       "    <tr>\n",
       "      <th>2</th>\n",
       "      <td>1000001</td>\n",
       "      <td>P00087842</td>\n",
       "      <td>F</td>\n",
       "      <td>0-17</td>\n",
       "      <td>10</td>\n",
       "      <td>A</td>\n",
       "      <td>2</td>\n",
       "      <td>0</td>\n",
       "      <td>12</td>\n",
       "      <td>1422</td>\n",
       "    </tr>\n",
       "    <tr>\n",
       "      <th>3</th>\n",
       "      <td>1000001</td>\n",
       "      <td>P00085442</td>\n",
       "      <td>F</td>\n",
       "      <td>0-17</td>\n",
       "      <td>10</td>\n",
       "      <td>A</td>\n",
       "      <td>2</td>\n",
       "      <td>0</td>\n",
       "      <td>12</td>\n",
       "      <td>1057</td>\n",
       "    </tr>\n",
       "    <tr>\n",
       "      <th>4</th>\n",
       "      <td>1000002</td>\n",
       "      <td>P00285442</td>\n",
       "      <td>M</td>\n",
       "      <td>55+</td>\n",
       "      <td>16</td>\n",
       "      <td>C</td>\n",
       "      <td>4+</td>\n",
       "      <td>0</td>\n",
       "      <td>8</td>\n",
       "      <td>7969</td>\n",
       "    </tr>\n",
       "    <tr>\n",
       "      <th>...</th>\n",
       "      <td>...</td>\n",
       "      <td>...</td>\n",
       "      <td>...</td>\n",
       "      <td>...</td>\n",
       "      <td>...</td>\n",
       "      <td>...</td>\n",
       "      <td>...</td>\n",
       "      <td>...</td>\n",
       "      <td>...</td>\n",
       "      <td>...</td>\n",
       "    </tr>\n",
       "    <tr>\n",
       "      <th>550063</th>\n",
       "      <td>1006033</td>\n",
       "      <td>P00372445</td>\n",
       "      <td>M</td>\n",
       "      <td>51-55</td>\n",
       "      <td>13</td>\n",
       "      <td>B</td>\n",
       "      <td>1</td>\n",
       "      <td>1</td>\n",
       "      <td>20</td>\n",
       "      <td>368</td>\n",
       "    </tr>\n",
       "    <tr>\n",
       "      <th>550064</th>\n",
       "      <td>1006035</td>\n",
       "      <td>P00375436</td>\n",
       "      <td>F</td>\n",
       "      <td>26-35</td>\n",
       "      <td>1</td>\n",
       "      <td>C</td>\n",
       "      <td>3</td>\n",
       "      <td>0</td>\n",
       "      <td>20</td>\n",
       "      <td>371</td>\n",
       "    </tr>\n",
       "    <tr>\n",
       "      <th>550065</th>\n",
       "      <td>1006036</td>\n",
       "      <td>P00375436</td>\n",
       "      <td>F</td>\n",
       "      <td>26-35</td>\n",
       "      <td>15</td>\n",
       "      <td>B</td>\n",
       "      <td>4+</td>\n",
       "      <td>1</td>\n",
       "      <td>20</td>\n",
       "      <td>137</td>\n",
       "    </tr>\n",
       "    <tr>\n",
       "      <th>550066</th>\n",
       "      <td>1006038</td>\n",
       "      <td>P00375436</td>\n",
       "      <td>F</td>\n",
       "      <td>55+</td>\n",
       "      <td>1</td>\n",
       "      <td>C</td>\n",
       "      <td>2</td>\n",
       "      <td>0</td>\n",
       "      <td>20</td>\n",
       "      <td>365</td>\n",
       "    </tr>\n",
       "    <tr>\n",
       "      <th>550067</th>\n",
       "      <td>1006039</td>\n",
       "      <td>P00371644</td>\n",
       "      <td>F</td>\n",
       "      <td>46-50</td>\n",
       "      <td>0</td>\n",
       "      <td>B</td>\n",
       "      <td>4+</td>\n",
       "      <td>1</td>\n",
       "      <td>20</td>\n",
       "      <td>490</td>\n",
       "    </tr>\n",
       "  </tbody>\n",
       "</table>\n",
       "<p>550068 rows × 10 columns</p>\n",
       "</div>"
      ],
      "text/plain": [
       "        User_ID Product_ID Gender    Age  Occupation City_Category  \\\n",
       "0       1000001  P00069042      F   0-17          10             A   \n",
       "1       1000001  P00248942      F   0-17          10             A   \n",
       "2       1000001  P00087842      F   0-17          10             A   \n",
       "3       1000001  P00085442      F   0-17          10             A   \n",
       "4       1000002  P00285442      M    55+          16             C   \n",
       "...         ...        ...    ...    ...         ...           ...   \n",
       "550063  1006033  P00372445      M  51-55          13             B   \n",
       "550064  1006035  P00375436      F  26-35           1             C   \n",
       "550065  1006036  P00375436      F  26-35          15             B   \n",
       "550066  1006038  P00375436      F    55+           1             C   \n",
       "550067  1006039  P00371644      F  46-50           0             B   \n",
       "\n",
       "       Stay_In_Current_City_Years  Marital_Status  Product_Category  Purchase  \n",
       "0                               2               0                 3      8370  \n",
       "1                               2               0                 1     15200  \n",
       "2                               2               0                12      1422  \n",
       "3                               2               0                12      1057  \n",
       "4                              4+               0                 8      7969  \n",
       "...                           ...             ...               ...       ...  \n",
       "550063                          1               1                20       368  \n",
       "550064                          3               0                20       371  \n",
       "550065                         4+               1                20       137  \n",
       "550066                          2               0                20       365  \n",
       "550067                         4+               1                20       490  \n",
       "\n",
       "[550068 rows x 10 columns]"
      ]
     },
     "execution_count": 3,
     "metadata": {},
     "output_type": "execute_result"
    }
   ],
   "source": [
    "trns = pd.read_csv('C:/Users/Animesh.Porwal/Downloads/walmart_data.txt')\n",
    "trns"
   ]
  },
  {
   "cell_type": "code",
   "execution_count": 4,
   "id": "718599c3",
   "metadata": {},
   "outputs": [
    {
     "name": "stdout",
     "output_type": "stream",
     "text": [
      "<class 'pandas.core.frame.DataFrame'>\n",
      "RangeIndex: 550068 entries, 0 to 550067\n",
      "Data columns (total 10 columns):\n",
      " #   Column                      Non-Null Count   Dtype \n",
      "---  ------                      --------------   ----- \n",
      " 0   User_ID                     550068 non-null  int64 \n",
      " 1   Product_ID                  550068 non-null  object\n",
      " 2   Gender                      550068 non-null  object\n",
      " 3   Age                         550068 non-null  object\n",
      " 4   Occupation                  550068 non-null  int64 \n",
      " 5   City_Category               550068 non-null  object\n",
      " 6   Stay_In_Current_City_Years  550068 non-null  object\n",
      " 7   Marital_Status              550068 non-null  int64 \n",
      " 8   Product_Category            550068 non-null  int64 \n",
      " 9   Purchase                    550068 non-null  int64 \n",
      "dtypes: int64(5), object(5)\n",
      "memory usage: 42.0+ MB\n"
     ]
    }
   ],
   "source": [
    "trns.info()"
   ]
  },
  {
   "cell_type": "code",
   "execution_count": 5,
   "id": "d22bb0d3",
   "metadata": {},
   "outputs": [
    {
     "data": {
      "text/plain": [
       "User_ID                       0\n",
       "Product_ID                    0\n",
       "Gender                        0\n",
       "Age                           0\n",
       "Occupation                    0\n",
       "City_Category                 0\n",
       "Stay_In_Current_City_Years    0\n",
       "Marital_Status                0\n",
       "Product_Category              0\n",
       "Purchase                      0\n",
       "dtype: int64"
      ]
     },
     "execution_count": 5,
     "metadata": {},
     "output_type": "execute_result"
    }
   ],
   "source": [
    "trns.isnull().sum()"
   ]
  },
  {
   "cell_type": "markdown",
   "id": "8eaab864",
   "metadata": {},
   "source": [
    "There are no missing values in the data"
   ]
  },
  {
   "cell_type": "code",
   "execution_count": 6,
   "id": "2523fb6b",
   "metadata": {},
   "outputs": [],
   "source": [
    "import seaborn as sns\n",
    "import matplotlib.pyplot as plt"
   ]
  },
  {
   "cell_type": "code",
   "execution_count": 7,
   "id": "c721818a",
   "metadata": {},
   "outputs": [
    {
     "data": {
      "text/html": [
       "<div>\n",
       "<style scoped>\n",
       "    .dataframe tbody tr th:only-of-type {\n",
       "        vertical-align: middle;\n",
       "    }\n",
       "\n",
       "    .dataframe tbody tr th {\n",
       "        vertical-align: top;\n",
       "    }\n",
       "\n",
       "    .dataframe thead th {\n",
       "        text-align: right;\n",
       "    }\n",
       "</style>\n",
       "<table border=\"1\" class=\"dataframe\">\n",
       "  <thead>\n",
       "    <tr style=\"text-align: right;\">\n",
       "      <th></th>\n",
       "      <th>User_ID</th>\n",
       "      <th>Occupation</th>\n",
       "      <th>Marital_Status</th>\n",
       "      <th>Product_Category</th>\n",
       "      <th>Purchase</th>\n",
       "    </tr>\n",
       "  </thead>\n",
       "  <tbody>\n",
       "    <tr>\n",
       "      <th>count</th>\n",
       "      <td>5.500680e+05</td>\n",
       "      <td>550068.000000</td>\n",
       "      <td>550068.000000</td>\n",
       "      <td>550068.000000</td>\n",
       "      <td>550068.000000</td>\n",
       "    </tr>\n",
       "    <tr>\n",
       "      <th>mean</th>\n",
       "      <td>1.003029e+06</td>\n",
       "      <td>8.076707</td>\n",
       "      <td>0.409653</td>\n",
       "      <td>5.404270</td>\n",
       "      <td>9263.968713</td>\n",
       "    </tr>\n",
       "    <tr>\n",
       "      <th>std</th>\n",
       "      <td>1.727592e+03</td>\n",
       "      <td>6.522660</td>\n",
       "      <td>0.491770</td>\n",
       "      <td>3.936211</td>\n",
       "      <td>5023.065394</td>\n",
       "    </tr>\n",
       "    <tr>\n",
       "      <th>min</th>\n",
       "      <td>1.000001e+06</td>\n",
       "      <td>0.000000</td>\n",
       "      <td>0.000000</td>\n",
       "      <td>1.000000</td>\n",
       "      <td>12.000000</td>\n",
       "    </tr>\n",
       "    <tr>\n",
       "      <th>25%</th>\n",
       "      <td>1.001516e+06</td>\n",
       "      <td>2.000000</td>\n",
       "      <td>0.000000</td>\n",
       "      <td>1.000000</td>\n",
       "      <td>5823.000000</td>\n",
       "    </tr>\n",
       "    <tr>\n",
       "      <th>50%</th>\n",
       "      <td>1.003077e+06</td>\n",
       "      <td>7.000000</td>\n",
       "      <td>0.000000</td>\n",
       "      <td>5.000000</td>\n",
       "      <td>8047.000000</td>\n",
       "    </tr>\n",
       "    <tr>\n",
       "      <th>75%</th>\n",
       "      <td>1.004478e+06</td>\n",
       "      <td>14.000000</td>\n",
       "      <td>1.000000</td>\n",
       "      <td>8.000000</td>\n",
       "      <td>12054.000000</td>\n",
       "    </tr>\n",
       "    <tr>\n",
       "      <th>max</th>\n",
       "      <td>1.006040e+06</td>\n",
       "      <td>20.000000</td>\n",
       "      <td>1.000000</td>\n",
       "      <td>20.000000</td>\n",
       "      <td>23961.000000</td>\n",
       "    </tr>\n",
       "  </tbody>\n",
       "</table>\n",
       "</div>"
      ],
      "text/plain": [
       "            User_ID     Occupation  Marital_Status  Product_Category  \\\n",
       "count  5.500680e+05  550068.000000   550068.000000     550068.000000   \n",
       "mean   1.003029e+06       8.076707        0.409653          5.404270   \n",
       "std    1.727592e+03       6.522660        0.491770          3.936211   \n",
       "min    1.000001e+06       0.000000        0.000000          1.000000   \n",
       "25%    1.001516e+06       2.000000        0.000000          1.000000   \n",
       "50%    1.003077e+06       7.000000        0.000000          5.000000   \n",
       "75%    1.004478e+06      14.000000        1.000000          8.000000   \n",
       "max    1.006040e+06      20.000000        1.000000         20.000000   \n",
       "\n",
       "            Purchase  \n",
       "count  550068.000000  \n",
       "mean     9263.968713  \n",
       "std      5023.065394  \n",
       "min        12.000000  \n",
       "25%      5823.000000  \n",
       "50%      8047.000000  \n",
       "75%     12054.000000  \n",
       "max     23961.000000  "
      ]
     },
     "execution_count": 7,
     "metadata": {},
     "output_type": "execute_result"
    }
   ],
   "source": [
    "trns.describe()"
   ]
  },
  {
   "cell_type": "code",
   "execution_count": 8,
   "id": "f8f02aec",
   "metadata": {},
   "outputs": [
    {
     "data": {
      "text/plain": [
       "5     27.438971\n",
       "1     25.520118\n",
       "8     20.711076\n",
       "11     4.415272\n",
       "2      4.338373\n",
       "6      3.720631\n",
       "3      3.674637\n",
       "4      2.136645\n",
       "16     1.786688\n",
       "15     1.143495\n",
       "13     1.008784\n",
       "10     0.931703\n",
       "12     0.717548\n",
       "7      0.676462\n",
       "18     0.568112\n",
       "20     0.463579\n",
       "19     0.291419\n",
       "14     0.276875\n",
       "17     0.105078\n",
       "9      0.074536\n",
       "Name: Product_Category, dtype: float64"
      ]
     },
     "execution_count": 8,
     "metadata": {},
     "output_type": "execute_result"
    }
   ],
   "source": [
    "trns['Product_Category'].value_counts(normalize = 'True')*100"
   ]
  },
  {
   "cell_type": "markdown",
   "id": "a7c4906c",
   "metadata": {},
   "source": [
    "### Most popular product categories are 5 and 1 accounting for nearly 50% of all purchases"
   ]
  },
  {
   "cell_type": "code",
   "execution_count": 9,
   "id": "1cfb8add",
   "metadata": {},
   "outputs": [
    {
     "data": {
      "text/plain": [
       "Product_Category\n",
       "1     13606.218596\n",
       "2     11251.935384\n",
       "3     10096.705734\n",
       "4      2329.659491\n",
       "5      6240.088178\n",
       "6     15838.478550\n",
       "7     16365.689600\n",
       "8      7498.958078\n",
       "9     15537.375610\n",
       "10    19675.570927\n",
       "11     4685.268456\n",
       "12     1350.859894\n",
       "13      722.400613\n",
       "14    13141.625739\n",
       "15    14780.451828\n",
       "16    14766.037037\n",
       "17    10170.759516\n",
       "18     2972.864320\n",
       "19       37.041797\n",
       "20      370.481176\n",
       "Name: Purchase, dtype: float64"
      ]
     },
     "execution_count": 9,
     "metadata": {},
     "output_type": "execute_result"
    }
   ],
   "source": [
    "trns.groupby('Product_Category')['Purchase'].mean()"
   ]
  },
  {
   "cell_type": "markdown",
   "id": "43b9894b",
   "metadata": {},
   "source": [
    "### Although, category 10 has the highest purchase value, cateogory 1 stays to be the most imp category since it's the highest sold as well as among high average purchase value"
   ]
  },
  {
   "cell_type": "code",
   "execution_count": 10,
   "id": "2e70e7ce",
   "metadata": {},
   "outputs": [
    {
     "data": {
      "text/plain": [
       "<AxesSubplot:xlabel='Gender', ylabel='Purchase'>"
      ]
     },
     "execution_count": 10,
     "metadata": {},
     "output_type": "execute_result"
    },
    {
     "data": {
      "image/png": "[encoded data removed]",
      "text/plain": [
       "<Figure size 720x432 with 1 Axes>"
      ]
     },
     "metadata": {
      "needs_background": "light"
     },
     "output_type": "display_data"
    }
   ],
   "source": [
    "plt.figure(figsize=(10,6))\n",
    "sns.boxplot(x='Gender', y='Purchase', hue='City_Category', data=trns)"
   ]
  },
  {
   "cell_type": "markdown",
   "id": "a03fad6d",
   "metadata": {},
   "source": [
    "### Product Purchase mean lies around 9200, however median lies around 7500 which means that the distribution is slightly skewed towards left"
   ]
  },
  {
   "cell_type": "code",
   "execution_count": 11,
   "id": "1571189a",
   "metadata": {},
   "outputs": [
    {
     "data": {
      "text/plain": [
       "<AxesSubplot:xlabel='City_Category', ylabel='Purchase'>"
      ]
     },
     "execution_count": 11,
     "metadata": {},
     "output_type": "execute_result"
    },
    {
     "data": {
      "image/png": "[encoded data removed]",
      "text/plain": [
       "<Figure size 720x432 with 1 Axes>"
      ]
     },
     "metadata": {
      "needs_background": "light"
     },
     "output_type": "display_data"
    }
   ],
   "source": [
    "plt.figure(figsize=(10,6))\n",
    "sns.boxplot(x='City_Category', y='Purchase', hue='Stay_In_Current_City_Years', data=trns)"
   ]
  },
  {
   "cell_type": "code",
   "execution_count": 12,
   "id": "6c003cbd",
   "metadata": {
    "scrolled": true
   },
   "outputs": [
    {
     "data": {
      "text/plain": [
       "<AxesSubplot:>"
      ]
     },
     "execution_count": 12,
     "metadata": {},
     "output_type": "execute_result"
    },
    {
     "data": {
      "image/png": "[encoded data removed]",
      "text/plain": [
       "<Figure size 432x288 with 2 Axes>"
      ]
     },
     "metadata": {
      "needs_background": "light"
     },
     "output_type": "display_data"
    }
   ],
   "source": [
    "sns.heatmap(trns.corr(),annot = True)"
   ]
  },
  {
   "cell_type": "markdown",
   "id": "6c2c5e29",
   "metadata": {},
   "source": [
    "### There is no clear correlation between any of the dimensions"
   ]
  },
  {
   "cell_type": "code",
   "execution_count": 13,
   "id": "ad38ae03",
   "metadata": {},
   "outputs": [
    {
     "data": {
      "text/html": [
       "<div>\n",
       "<style scoped>\n",
       "    .dataframe tbody tr th:only-of-type {\n",
       "        vertical-align: middle;\n",
       "    }\n",
       "\n",
       "    .dataframe tbody tr th {\n",
       "        vertical-align: top;\n",
       "    }\n",
       "\n",
       "    .dataframe thead th {\n",
       "        text-align: right;\n",
       "    }\n",
       "</style>\n",
       "<table border=\"1\" class=\"dataframe\">\n",
       "  <thead>\n",
       "    <tr style=\"text-align: right;\">\n",
       "      <th></th>\n",
       "      <th>count</th>\n",
       "      <th>mean</th>\n",
       "      <th>std</th>\n",
       "      <th>min</th>\n",
       "      <th>25%</th>\n",
       "      <th>50%</th>\n",
       "      <th>75%</th>\n",
       "      <th>max</th>\n",
       "    </tr>\n",
       "    <tr>\n",
       "      <th>Gender</th>\n",
       "      <th></th>\n",
       "      <th></th>\n",
       "      <th></th>\n",
       "      <th></th>\n",
       "      <th></th>\n",
       "      <th></th>\n",
       "      <th></th>\n",
       "      <th></th>\n",
       "    </tr>\n",
       "  </thead>\n",
       "  <tbody>\n",
       "    <tr>\n",
       "      <th>F</th>\n",
       "      <td>135809.0</td>\n",
       "      <td>8734.565765</td>\n",
       "      <td>4767.233289</td>\n",
       "      <td>12.0</td>\n",
       "      <td>5433.0</td>\n",
       "      <td>7914.0</td>\n",
       "      <td>11400.0</td>\n",
       "      <td>23959.0</td>\n",
       "    </tr>\n",
       "    <tr>\n",
       "      <th>M</th>\n",
       "      <td>414259.0</td>\n",
       "      <td>9437.526040</td>\n",
       "      <td>5092.186210</td>\n",
       "      <td>12.0</td>\n",
       "      <td>5863.0</td>\n",
       "      <td>8098.0</td>\n",
       "      <td>12454.0</td>\n",
       "      <td>23961.0</td>\n",
       "    </tr>\n",
       "  </tbody>\n",
       "</table>\n",
       "</div>"
      ],
      "text/plain": [
       "           count         mean          std   min     25%     50%      75%  \\\n",
       "Gender                                                                      \n",
       "F       135809.0  8734.565765  4767.233289  12.0  5433.0  7914.0  11400.0   \n",
       "M       414259.0  9437.526040  5092.186210  12.0  5863.0  8098.0  12454.0   \n",
       "\n",
       "            max  \n",
       "Gender           \n",
       "F       23959.0  \n",
       "M       23961.0  "
      ]
     },
     "execution_count": 13,
     "metadata": {},
     "output_type": "execute_result"
    }
   ],
   "source": [
    "trns.groupby('Gender')['Purchase'].describe()"
   ]
  },
  {
   "cell_type": "markdown",
   "id": "0493dc44",
   "metadata": {},
   "source": [
    "### Female mean for the sample looks to be lower in comparison to the male mean for the sample"
   ]
  },
  {
   "cell_type": "code",
   "execution_count": 14,
   "id": "db56345e",
   "metadata": {},
   "outputs": [],
   "source": [
    "# For 5 million customers in Males or Females\n",
    "female_sample_mean = 8734\n",
    "female_std = 4767\n",
    "male_sample_mean = 9437\n",
    "male_std = 5092\n",
    "n = 5000000"
   ]
  },
  {
   "cell_type": "code",
   "execution_count": 15,
   "id": "09df20d5",
   "metadata": {},
   "outputs": [
    {
     "data": {
      "text/plain": [
       "(4.220354700733103, 3.9059635430966324)"
      ]
     },
     "execution_count": 15,
     "metadata": {},
     "output_type": "execute_result"
    }
   ],
   "source": [
    "std_error_male = male_sample_mean/n**0.5\n",
    "std_error_female = female_sample_mean/n**0.5\n",
    "std_error_male, std_error_female"
   ]
  },
  {
   "cell_type": "markdown",
   "id": "ce9c6ec0",
   "metadata": {},
   "source": [
    "### CLT Calculations for standard errors show a higher standard error for male population. Next, let's try bootstrapping the sample and checking for population mean"
   ]
  },
  {
   "cell_type": "code",
   "execution_count": 16,
   "id": "2cf1fb10",
   "metadata": {},
   "outputs": [],
   "source": [
    "import numpy as np"
   ]
  },
  {
   "cell_type": "code",
   "execution_count": 23,
   "id": "d5e6b3cd",
   "metadata": {},
   "outputs": [
    {
     "data": {
      "text/plain": [
       "<AxesSubplot:ylabel='Count'>"
      ]
     },
     "execution_count": 23,
     "metadata": {},
     "output_type": "execute_result"
    },
    {
     "data": {
      "image/png": "[encoded data removed]",
      "text/plain": [
       "<Figure size 432x288 with 1 Axes>"
      ]
     },
     "metadata": {
      "needs_background": "light"
     },
     "output_type": "display_data"
    }
   ],
   "source": [
    "## Bootstrapping for male population\n",
    "sample_means_male, n = [], 5000000\n",
    "for reps in range(200):\n",
    "  bootstrapped_sample = np.random.choice(trns[trns['Gender'] == 'M']['Purchase'], size=n) \n",
    "  bootstrapped_mean = np.mean(bootstrapped_sample)\n",
    "  sample_means_male.append(bootstrapped_mean)\n",
    "sns.histplot(sample_means_male, bins=20)"
   ]
  },
  {
   "cell_type": "code",
   "execution_count": 24,
   "id": "a0ef1ae3",
   "metadata": {},
   "outputs": [
    {
     "data": {
      "text/plain": [
       "<AxesSubplot:ylabel='Count'>"
      ]
     },
     "execution_count": 24,
     "metadata": {},
     "output_type": "execute_result"
    },
    {
     "data": {
      "image/png": "[encoded data removed]",
      "text/plain": [
       "<Figure size 432x288 with 1 Axes>"
      ]
     },
     "metadata": {
      "needs_background": "light"
     },
     "output_type": "display_data"
    }
   ],
   "source": [
    "## Bootstrapping for female population\n",
    "sample_means_female, n = [], 5000000\n",
    "for reps in range(200):\n",
    "  bootstrapped_sample = np.random.choice(trns[trns['Gender'] == 'F']['Purchase'], size=n) \n",
    "  bootstrapped_mean = np.mean(bootstrapped_sample)\n",
    "  sample_means_female.append(bootstrapped_mean)\n",
    "sns.histplot(sample_means_female, bins=20)"
   ]
  },
  {
   "cell_type": "markdown",
   "id": "36f09733",
   "metadata": {},
   "source": [
    "## 95% confidence intervals for male and female population"
   ]
  },
  {
   "cell_type": "code",
   "execution_count": 25,
   "id": "69c5b142",
   "metadata": {},
   "outputs": [
    {
     "name": "stdout",
     "output_type": "stream",
     "text": [
      "Male -  [9433. 9441.]\n",
      "Female -  [8731. 8739.]\n"
     ]
    }
   ],
   "source": [
    "print(\"Male - \",np.round(np.percentile(sample_means_male, [2.5, 97.5]))) #male\n",
    "print(\"Female - \",np.round(np.percentile(sample_means_female, [2.5, 97.5]))) #female"
   ]
  },
  {
   "cell_type": "markdown",
   "id": "9cb370ee",
   "metadata": {},
   "source": [
    "## 99% confidence intervals for male and female population"
   ]
  },
  {
   "cell_type": "code",
   "execution_count": 26,
   "id": "87144166",
   "metadata": {},
   "outputs": [
    {
     "name": "stdout",
     "output_type": "stream",
     "text": [
      "Male -  [9431. 9444.]\n",
      "Female -  [8730. 8739.]\n"
     ]
    }
   ],
   "source": [
    "print(\"Male - \",np.round(np.percentile(sample_means_male, [0.5, 99.5]))) #male\n",
    "print(\"Female - \",np.round(np.percentile(sample_means_female, [0.5, 99.5]))) #female"
   ]
  },
  {
   "cell_type": "markdown",
   "id": "751c9cc2",
   "metadata": {},
   "source": [
    "### There is no overlap between Male and female purchases, and clearly with 99% confidence, we can say Males tend to spend more than women"
   ]
  },
  {
   "cell_type": "markdown",
   "id": "1f6dcbc8",
   "metadata": {},
   "source": [
    "# Married vs Unmarried"
   ]
  },
  {
   "cell_type": "code",
   "execution_count": 27,
   "id": "4b8ce142",
   "metadata": {},
   "outputs": [
    {
     "data": {
      "text/html": [
       "<div>\n",
       "<style scoped>\n",
       "    .dataframe tbody tr th:only-of-type {\n",
       "        vertical-align: middle;\n",
       "    }\n",
       "\n",
       "    .dataframe tbody tr th {\n",
       "        vertical-align: top;\n",
       "    }\n",
       "\n",
       "    .dataframe thead th {\n",
       "        text-align: right;\n",
       "    }\n",
       "</style>\n",
       "<table border=\"1\" class=\"dataframe\">\n",
       "  <thead>\n",
       "    <tr style=\"text-align: right;\">\n",
       "      <th></th>\n",
       "      <th>count</th>\n",
       "      <th>mean</th>\n",
       "      <th>std</th>\n",
       "      <th>min</th>\n",
       "      <th>25%</th>\n",
       "      <th>50%</th>\n",
       "      <th>75%</th>\n",
       "      <th>max</th>\n",
       "    </tr>\n",
       "    <tr>\n",
       "      <th>Marital_Status</th>\n",
       "      <th></th>\n",
       "      <th></th>\n",
       "      <th></th>\n",
       "      <th></th>\n",
       "      <th></th>\n",
       "      <th></th>\n",
       "      <th></th>\n",
       "      <th></th>\n",
       "    </tr>\n",
       "  </thead>\n",
       "  <tbody>\n",
       "    <tr>\n",
       "      <th>0</th>\n",
       "      <td>324731.0</td>\n",
       "      <td>9265.907619</td>\n",
       "      <td>5027.347859</td>\n",
       "      <td>12.0</td>\n",
       "      <td>5605.0</td>\n",
       "      <td>8044.0</td>\n",
       "      <td>12061.0</td>\n",
       "      <td>23961.0</td>\n",
       "    </tr>\n",
       "    <tr>\n",
       "      <th>1</th>\n",
       "      <td>225337.0</td>\n",
       "      <td>9261.174574</td>\n",
       "      <td>5016.897378</td>\n",
       "      <td>12.0</td>\n",
       "      <td>5843.0</td>\n",
       "      <td>8051.0</td>\n",
       "      <td>12042.0</td>\n",
       "      <td>23961.0</td>\n",
       "    </tr>\n",
       "  </tbody>\n",
       "</table>\n",
       "</div>"
      ],
      "text/plain": [
       "                   count         mean          std   min     25%     50%  \\\n",
       "Marital_Status                                                             \n",
       "0               324731.0  9265.907619  5027.347859  12.0  5605.0  8044.0   \n",
       "1               225337.0  9261.174574  5016.897378  12.0  5843.0  8051.0   \n",
       "\n",
       "                    75%      max  \n",
       "Marital_Status                    \n",
       "0               12061.0  23961.0  \n",
       "1               12042.0  23961.0  "
      ]
     },
     "execution_count": 27,
     "metadata": {},
     "output_type": "execute_result"
    }
   ],
   "source": [
    "trns.groupby('Marital_Status')['Purchase'].describe()"
   ]
  },
  {
   "cell_type": "code",
   "execution_count": 30,
   "id": "630c116c",
   "metadata": {},
   "outputs": [],
   "source": [
    "unmarried_sample_mean = 8734\n",
    "unmarried_std = 4767\n",
    "married_sample_mean = 9437\n",
    "married_std = 5092\n",
    "n = 5000000"
   ]
  },
  {
   "cell_type": "code",
   "execution_count": 31,
   "id": "f3f18794",
   "metadata": {},
   "outputs": [
    {
     "data": {
      "text/plain": [
       "(4.220354700733103, 3.9059635430966324)"
      ]
     },
     "execution_count": 31,
     "metadata": {},
     "output_type": "execute_result"
    }
   ],
   "source": [
    "std_error_married = married_sample_mean/n**0.5\n",
    "std_error_unmarried = unmarried_sample_mean/n**0.5\n",
    "std_error_married, std_error_unmarried"
   ]
  },
  {
   "cell_type": "markdown",
   "id": "1dfc1e66",
   "metadata": {},
   "source": [
    "### CLT Calculations for standard errors show a higher standard error for married population. Next, let's try bootstrapping the sample and checking for population mean\n"
   ]
  },
  {
   "cell_type": "code",
   "execution_count": 38,
   "id": "25effe27",
   "metadata": {},
   "outputs": [
    {
     "data": {
      "text/plain": [
       "<AxesSubplot:ylabel='Count'>"
      ]
     },
     "execution_count": 38,
     "metadata": {},
     "output_type": "execute_result"
    },
    {
     "data": {
      "image/png": "[encoded data removed]",
      "text/plain": [
       "<Figure size 432x288 with 1 Axes>"
      ]
     },
     "metadata": {
      "needs_background": "light"
     },
     "output_type": "display_data"
    }
   ],
   "source": [
    "## Bootstrapping for married population\n",
    "sample_means_married, n = [], 5000000\n",
    "for reps in range(200):\n",
    "  bootstrapped_sample = np.random.choice(trns[trns['Marital_Status'] == 1]['Purchase'], size=n) \n",
    "  bootstrapped_mean = np.mean(bootstrapped_sample)\n",
    "  sample_means_married.append(bootstrapped_mean)\n",
    "sns.histplot(sample_means_married, bins=20)"
   ]
  },
  {
   "cell_type": "code",
   "execution_count": 39,
   "id": "d6e24516",
   "metadata": {},
   "outputs": [
    {
     "data": {
      "text/plain": [
       "<AxesSubplot:ylabel='Count'>"
      ]
     },
     "execution_count": 39,
     "metadata": {},
     "output_type": "execute_result"
    },
    {
     "data": {
      "image/png": "[encoded data removed]",
      "text/plain": [
       "<Figure size 432x288 with 1 Axes>"
      ]
     },
     "metadata": {
      "needs_background": "light"
     },
     "output_type": "display_data"
    }
   ],
   "source": [
    "## Bootstrapping for unmarried population\n",
    "sample_means_unmarried, n = [], 5000000\n",
    "for reps in range(200):\n",
    "  bootstrapped_sample = np.random.choice(trns[trns['Marital_Status'] == 0]['Purchase'], size=n) \n",
    "  bootstrapped_mean = np.mean(bootstrapped_sample)\n",
    "  sample_means_unmarried.append(bootstrapped_mean)\n",
    "sns.histplot(sample_means_unmarried, bins=20)"
   ]
  },
  {
   "cell_type": "markdown",
   "id": "360fb910",
   "metadata": {},
   "source": [
    "## 95% confidence intervals for maried and unmarried population"
   ]
  },
  {
   "cell_type": "code",
   "execution_count": 40,
   "id": "a703c831",
   "metadata": {},
   "outputs": [
    {
     "name": "stdout",
     "output_type": "stream",
     "text": [
      "Married -  [9257. 9265.]\n",
      "Unmarried -  [9261. 9270.]\n"
     ]
    }
   ],
   "source": [
    "print(\"Married - \",np.round(np.percentile(sample_means_married, [2.5, 97.5]))) #male\n",
    "print(\"Unmarried - \",np.round(np.percentile(sample_means_unmarried, [2.5, 97.5]))) #female"
   ]
  },
  {
   "cell_type": "markdown",
   "id": "0c0723bf",
   "metadata": {},
   "source": [
    "## 99% confidence intervals for maried and unmarried population"
   ]
  },
  {
   "cell_type": "code",
   "execution_count": 41,
   "id": "777a9758",
   "metadata": {},
   "outputs": [
    {
     "name": "stdout",
     "output_type": "stream",
     "text": [
      "Married -  [9256. 9267.]\n",
      "Unmarried -  [9259. 9273.]\n"
     ]
    }
   ],
   "source": [
    "print(\"Married - \",np.round(np.percentile(sample_means_married, [0.5, 99.5]))) #male\n",
    "print(\"Unmarried - \",np.round(np.percentile(sample_means_unmarried, [0.5, 99.5]))) #female"
   ]
  },
  {
   "cell_type": "markdown",
   "id": "df439989",
   "metadata": {},
   "source": [
    "### There is an overlap between Married and Unmarried purchases, and we can not clearly say anything about married or unmarried people's buying behaviour"
   ]
  },
  {
   "cell_type": "markdown",
   "id": "33ff02f7",
   "metadata": {},
   "source": [
    "# Age based Anlaysis"
   ]
  },
  {
   "cell_type": "code",
   "execution_count": 42,
   "id": "196b8a09",
   "metadata": {},
   "outputs": [
    {
     "data": {
      "text/html": [
       "<div>\n",
       "<style scoped>\n",
       "    .dataframe tbody tr th:only-of-type {\n",
       "        vertical-align: middle;\n",
       "    }\n",
       "\n",
       "    .dataframe tbody tr th {\n",
       "        vertical-align: top;\n",
       "    }\n",
       "\n",
       "    .dataframe thead th {\n",
       "        text-align: right;\n",
       "    }\n",
       "</style>\n",
       "<table border=\"1\" class=\"dataframe\">\n",
       "  <thead>\n",
       "    <tr style=\"text-align: right;\">\n",
       "      <th></th>\n",
       "      <th>count</th>\n",
       "      <th>mean</th>\n",
       "      <th>std</th>\n",
       "      <th>min</th>\n",
       "      <th>25%</th>\n",
       "      <th>50%</th>\n",
       "      <th>75%</th>\n",
       "      <th>max</th>\n",
       "    </tr>\n",
       "    <tr>\n",
       "      <th>Age</th>\n",
       "      <th></th>\n",
       "      <th></th>\n",
       "      <th></th>\n",
       "      <th></th>\n",
       "      <th></th>\n",
       "      <th></th>\n",
       "      <th></th>\n",
       "      <th></th>\n",
       "    </tr>\n",
       "  </thead>\n",
       "  <tbody>\n",
       "    <tr>\n",
       "      <th>0-17</th>\n",
       "      <td>15102.0</td>\n",
       "      <td>8933.464640</td>\n",
       "      <td>5111.114046</td>\n",
       "      <td>12.0</td>\n",
       "      <td>5328.0</td>\n",
       "      <td>7986.0</td>\n",
       "      <td>11874.0</td>\n",
       "      <td>23955.0</td>\n",
       "    </tr>\n",
       "    <tr>\n",
       "      <th>18-25</th>\n",
       "      <td>99660.0</td>\n",
       "      <td>9169.663606</td>\n",
       "      <td>5034.321997</td>\n",
       "      <td>12.0</td>\n",
       "      <td>5415.0</td>\n",
       "      <td>8027.0</td>\n",
       "      <td>12028.0</td>\n",
       "      <td>23958.0</td>\n",
       "    </tr>\n",
       "    <tr>\n",
       "      <th>26-35</th>\n",
       "      <td>219587.0</td>\n",
       "      <td>9252.690633</td>\n",
       "      <td>5010.527303</td>\n",
       "      <td>12.0</td>\n",
       "      <td>5475.0</td>\n",
       "      <td>8030.0</td>\n",
       "      <td>12047.0</td>\n",
       "      <td>23961.0</td>\n",
       "    </tr>\n",
       "    <tr>\n",
       "      <th>36-45</th>\n",
       "      <td>110013.0</td>\n",
       "      <td>9331.350695</td>\n",
       "      <td>5022.923879</td>\n",
       "      <td>12.0</td>\n",
       "      <td>5876.0</td>\n",
       "      <td>8061.0</td>\n",
       "      <td>12107.0</td>\n",
       "      <td>23960.0</td>\n",
       "    </tr>\n",
       "    <tr>\n",
       "      <th>46-50</th>\n",
       "      <td>45701.0</td>\n",
       "      <td>9208.625697</td>\n",
       "      <td>4967.216367</td>\n",
       "      <td>12.0</td>\n",
       "      <td>5888.0</td>\n",
       "      <td>8036.0</td>\n",
       "      <td>11997.0</td>\n",
       "      <td>23960.0</td>\n",
       "    </tr>\n",
       "    <tr>\n",
       "      <th>51-55</th>\n",
       "      <td>38501.0</td>\n",
       "      <td>9534.808031</td>\n",
       "      <td>5087.368080</td>\n",
       "      <td>12.0</td>\n",
       "      <td>6017.0</td>\n",
       "      <td>8130.0</td>\n",
       "      <td>12462.0</td>\n",
       "      <td>23960.0</td>\n",
       "    </tr>\n",
       "    <tr>\n",
       "      <th>55+</th>\n",
       "      <td>21504.0</td>\n",
       "      <td>9336.280459</td>\n",
       "      <td>5011.493996</td>\n",
       "      <td>12.0</td>\n",
       "      <td>6018.0</td>\n",
       "      <td>8105.5</td>\n",
       "      <td>11932.0</td>\n",
       "      <td>23960.0</td>\n",
       "    </tr>\n",
       "  </tbody>\n",
       "</table>\n",
       "</div>"
      ],
      "text/plain": [
       "          count         mean          std   min     25%     50%      75%  \\\n",
       "Age                                                                        \n",
       "0-17    15102.0  8933.464640  5111.114046  12.0  5328.0  7986.0  11874.0   \n",
       "18-25   99660.0  9169.663606  5034.321997  12.0  5415.0  8027.0  12028.0   \n",
       "26-35  219587.0  9252.690633  5010.527303  12.0  5475.0  8030.0  12047.0   \n",
       "36-45  110013.0  9331.350695  5022.923879  12.0  5876.0  8061.0  12107.0   \n",
       "46-50   45701.0  9208.625697  4967.216367  12.0  5888.0  8036.0  11997.0   \n",
       "51-55   38501.0  9534.808031  5087.368080  12.0  6017.0  8130.0  12462.0   \n",
       "55+     21504.0  9336.280459  5011.493996  12.0  6018.0  8105.5  11932.0   \n",
       "\n",
       "           max  \n",
       "Age             \n",
       "0-17   23955.0  \n",
       "18-25  23958.0  \n",
       "26-35  23961.0  \n",
       "36-45  23960.0  \n",
       "46-50  23960.0  \n",
       "51-55  23960.0  \n",
       "55+    23960.0  "
      ]
     },
     "execution_count": 42,
     "metadata": {},
     "output_type": "execute_result"
    }
   ],
   "source": [
    "trns.groupby('Age')['Purchase'].describe()"
   ]
  },
  {
   "cell_type": "code",
   "execution_count": 43,
   "id": "160da31c",
   "metadata": {},
   "outputs": [
    {
     "data": {
      "text/plain": [
       "<AxesSubplot:ylabel='Count'>"
      ]
     },
     "execution_count": 43,
     "metadata": {},
     "output_type": "execute_result"
    },
    {
     "data": {
      "image/png": "[encoded data removed]",
      "text/plain": [
       "<Figure size 432x288 with 1 Axes>"
      ]
     },
     "metadata": {
      "needs_background": "light"
     },
     "output_type": "display_data"
    }
   ],
   "source": [
    "## Bootstrapping for 0-17 population\n",
    "sample_means_0_17, n = [], 5000000\n",
    "for reps in range(200):\n",
    "  bootstrapped_sample = np.random.choice(trns[trns['Age'] == '0-17']['Purchase'], size=n) \n",
    "  bootstrapped_mean = np.mean(bootstrapped_sample)\n",
    "  sample_means_0_17.append(bootstrapped_mean)\n",
    "sns.histplot(sample_means_0_17, bins=20)"
   ]
  },
  {
   "cell_type": "code",
   "execution_count": 44,
   "id": "0be07e47",
   "metadata": {},
   "outputs": [
    {
     "data": {
      "text/plain": [
       "<AxesSubplot:ylabel='Count'>"
      ]
     },
     "execution_count": 44,
     "metadata": {},
     "output_type": "execute_result"
    },
    {
     "data": {
      "image/png": "[encoded data removed]",
      "text/plain": [
       "<Figure size 432x288 with 1 Axes>"
      ]
     },
     "metadata": {
      "needs_background": "light"
     },
     "output_type": "display_data"
    }
   ],
   "source": [
    "## Bootstrapping for 18-25 population\n",
    "sample_means_18_25, n = [], 5000000\n",
    "for reps in range(200):\n",
    "  bootstrapped_sample = np.random.choice(trns[trns['Age'] == '18-25']['Purchase'], size=n) \n",
    "  bootstrapped_mean = np.mean(bootstrapped_sample)\n",
    "  sample_means_18_25.append(bootstrapped_mean)\n",
    "sns.histplot(sample_means_18_25, bins=20)"
   ]
  },
  {
   "cell_type": "code",
   "execution_count": 45,
   "id": "0f3c370b",
   "metadata": {},
   "outputs": [
    {
     "data": {
      "text/plain": [
       "<AxesSubplot:ylabel='Count'>"
      ]
     },
     "execution_count": 45,
     "metadata": {},
     "output_type": "execute_result"
    },
    {
     "data": {
      "image/png": "[encoded data removed]",
      "text/plain": [
       "<Figure size 432x288 with 1 Axes>"
      ]
     },
     "metadata": {
      "needs_background": "light"
     },
     "output_type": "display_data"
    }
   ],
   "source": [
    "## Bootstrapping for 26_35 population\n",
    "sample_means_26_35, n = [], 5000000\n",
    "for reps in range(200):\n",
    "  bootstrapped_sample = np.random.choice(trns[trns['Age'] == '26-35']['Purchase'], size=n) \n",
    "  bootstrapped_mean = np.mean(bootstrapped_sample)\n",
    "  sample_means_26_35.append(bootstrapped_mean)\n",
    "sns.histplot(sample_means_26_35, bins=20)"
   ]
  },
  {
   "cell_type": "code",
   "execution_count": 46,
   "id": "2195c067",
   "metadata": {},
   "outputs": [
    {
     "data": {
      "text/plain": [
       "<AxesSubplot:ylabel='Count'>"
      ]
     },
     "execution_count": 46,
     "metadata": {},
     "output_type": "execute_result"
    },
    {
     "data": {
      "image/png": "[encoded data removed]",
      "text/plain": [
       "<Figure size 432x288 with 1 Axes>"
      ]
     },
     "metadata": {
      "needs_background": "light"
     },
     "output_type": "display_data"
    }
   ],
   "source": [
    "## Bootstrapping for 36_45 population\n",
    "sample_means_36_45, n = [], 5000000\n",
    "for reps in range(200):\n",
    "  bootstrapped_sample = np.random.choice(trns[trns['Age'] == '36-45']['Purchase'], size=n) \n",
    "  bootstrapped_mean = np.mean(bootstrapped_sample)\n",
    "  sample_means_36_45.append(bootstrapped_mean)\n",
    "sns.histplot(sample_means_36_45, bins=20)"
   ]
  },
  {
   "cell_type": "code",
   "execution_count": 47,
   "id": "d35d2075",
   "metadata": {},
   "outputs": [
    {
     "data": {
      "text/plain": [
       "<AxesSubplot:ylabel='Count'>"
      ]
     },
     "execution_count": 47,
     "metadata": {},
     "output_type": "execute_result"
    },
    {
     "data": {
      "image/png": "[encoded data removed]",
      "text/plain": [
       "<Figure size 432x288 with 1 Axes>"
      ]
     },
     "metadata": {
      "needs_background": "light"
     },
     "output_type": "display_data"
    }
   ],
   "source": [
    "## Bootstrapping for 46_50 population\n",
    "sample_means_46_50, n = [], 5000000\n",
    "for reps in range(200):\n",
    "  bootstrapped_sample = np.random.choice(trns[trns['Age'] == '46-50']['Purchase'], size=n) \n",
    "  bootstrapped_mean = np.mean(bootstrapped_sample)\n",
    "  sample_means_46_50.append(bootstrapped_mean)\n",
    "sns.histplot(sample_means_46_50, bins=20)"
   ]
  },
  {
   "cell_type": "code",
   "execution_count": 48,
   "id": "930603bf",
   "metadata": {},
   "outputs": [
    {
     "data": {
      "text/plain": [
       "<AxesSubplot:ylabel='Count'>"
      ]
     },
     "execution_count": 48,
     "metadata": {},
     "output_type": "execute_result"
    },
    {
     "data": {
      "image/png": "[encoded data removed]",
      "text/plain": [
       "<Figure size 432x288 with 1 Axes>"
      ]
     },
     "metadata": {
      "needs_background": "light"
     },
     "output_type": "display_data"
    }
   ],
   "source": [
    "## Bootstrapping for 51_55 population\n",
    "sample_means_51_55, n = [], 5000000\n",
    "for reps in range(200):\n",
    "  bootstrapped_sample = np.random.choice(trns[trns['Age'] == '51-55']['Purchase'], size=n) \n",
    "  bootstrapped_mean = np.mean(bootstrapped_sample)\n",
    "  sample_means_51_55.append(bootstrapped_mean)\n",
    "sns.histplot(sample_means_51_55, bins=20)"
   ]
  },
  {
   "cell_type": "code",
   "execution_count": 52,
   "id": "0e432c83",
   "metadata": {},
   "outputs": [
    {
     "data": {
      "text/plain": [
       "<AxesSubplot:ylabel='Count'>"
      ]
     },
     "execution_count": 52,
     "metadata": {},
     "output_type": "execute_result"
    },
    {
     "data": {
      "image/png": "[encoded data removed]",
      "text/plain": [
       "<Figure size 432x288 with 1 Axes>"
      ]
     },
     "metadata": {
      "needs_background": "light"
     },
     "output_type": "display_data"
    }
   ],
   "source": [
    "## Bootstrapping for 55+ population\n",
    "sample_means_55_plus, n = [], 5000000\n",
    "for reps in range(200):\n",
    "  bootstrapped_sample = np.random.choice(trns[trns['Age'] == '55+']['Purchase'], size=n) \n",
    "  bootstrapped_mean = np.mean(bootstrapped_sample)\n",
    "  sample_means_55_plus.append(bootstrapped_mean)\n",
    "sns.histplot(sample_means_55_plus, bins=20)"
   ]
  },
  {
   "cell_type": "markdown",
   "id": "b480ea6d",
   "metadata": {},
   "source": [
    "## 95% confidence intervals for all age intervals"
   ]
  },
  {
   "cell_type": "code",
   "execution_count": 51,
   "id": "33ce5b2d",
   "metadata": {},
   "outputs": [
    {
     "name": "stdout",
     "output_type": "stream",
     "text": [
      "0-17 -  [8929. 8937.]\n",
      "18-25 -  [9165. 9174.]\n",
      "26-35 -  [9249. 9257.]\n",
      "36-45 -  [9327. 9336.]\n",
      "46-50 -  [9205. 9213.]\n",
      "51-55 -  [9531. 9539.]\n",
      "55+ -  [9332. 9341.]\n"
     ]
    }
   ],
   "source": [
    "print(\"0-17 - \",np.round(np.percentile(sample_means_0_17, [2.5, 97.5]))) \n",
    "print(\"18-25 - \",np.round(np.percentile(sample_means_18_25, [2.5, 97.5]))) \n",
    "print(\"26-35 - \",np.round(np.percentile(sample_means_26_35, [2.5, 97.5]))) \n",
    "print(\"36-45 - \",np.round(np.percentile(sample_means_36_45, [2.5, 97.5]))) \n",
    "print(\"46-50 - \",np.round(np.percentile(sample_means_46_50, [2.5, 97.5]))) \n",
    "print(\"51-55 - \",np.round(np.percentile(sample_means_51_55, [2.5, 97.5]))) \n",
    "print(\"55+ - \",np.round(np.percentile(sample_means_55_plus, [2.5, 97.5]))) "
   ]
  },
  {
   "cell_type": "markdown",
   "id": "135f0a55",
   "metadata": {},
   "source": [
    "## 99% confidence intervals for all age intervals"
   ]
  },
  {
   "cell_type": "code",
   "execution_count": 53,
   "id": "67221f4e",
   "metadata": {},
   "outputs": [
    {
     "name": "stdout",
     "output_type": "stream",
     "text": [
      "0-17 -  [8926. 8938.]\n",
      "18-25 -  [9165. 9175.]\n",
      "26-35 -  [9247. 9257.]\n",
      "36-45 -  [9325. 9337.]\n",
      "46-50 -  [9203. 9215.]\n",
      "51-55 -  [9529. 9540.]\n",
      "55+ -  [9331. 9342.]\n"
     ]
    }
   ],
   "source": [
    "print(\"0-17 - \",np.round(np.percentile(sample_means_0_17, [0.5, 99.5]))) \n",
    "print(\"18-25 - \",np.round(np.percentile(sample_means_18_25, [0.5, 99.5]))) \n",
    "print(\"26-35 - \",np.round(np.percentile(sample_means_26_35, [0.5, 99.5]))) \n",
    "print(\"36-45 - \",np.round(np.percentile(sample_means_36_45, [0.5, 99.5]))) \n",
    "print(\"46-50 - \",np.round(np.percentile(sample_means_46_50, [0.5, 99.5]))) \n",
    "print(\"51-55 - \",np.round(np.percentile(sample_means_51_55, [0.5, 99.5]))) \n",
    "print(\"55+ - \",np.round(np.percentile(sample_means_55_plus, [0.5, 99.5]))) "
   ]
  },
  {
   "cell_type": "markdown",
   "id": "207df44f",
   "metadata": {},
   "source": [
    "### Hence, we can say with 99% confidence that the highest spenders in descending order are \n",
    "    1. 51-55 years old\n",
    "    2. 36-45 years old / 55+ years old\n",
    "    3. 18-25 years old\n",
    "    4. 46-50 years old\n",
    "    5. 18-25 years old\n",
    "    6. 0-17 years old"
   ]
  },
  {
   "cell_type": "markdown",
   "id": "c99cc71c",
   "metadata": {},
   "source": [
    "### Actionable recommendations - \n",
    "    1. Old people tend to spend more than others, hence products specific to old people can be placed and priced strategically to cater them well and increase sales from them.\n",
    "    2. Males tend to spend more than others, hence products specific to old people can be placed and priced strategically to cater them well and increase sales from them."
   ]
  }
 ],
 "metadata": {
  "kernelspec": {
   "display_name": "Python 3 (ipykernel)",
   "language": "python",
   "name": "python3"
  },
  "language_info": {
   "codemirror_mode": {
    "name": "ipython",
    "version": 3
   },
   "file_extension": ".py",
   "mimetype": "text/x-python",
   "name": "python",
   "nbconvert_exporter": "python",
   "pygments_lexer": "ipython3",
   "version": "3.9.7"
  }
 },
 "nbformat": 4,
 "nbformat_minor": 5
}
